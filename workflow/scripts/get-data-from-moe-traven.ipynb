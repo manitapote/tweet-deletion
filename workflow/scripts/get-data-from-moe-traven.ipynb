{
 "cells": [
  {
   "cell_type": "code",
   "execution_count": 1,
   "metadata": {},
   "outputs": [],
   "source": [
    "import pandas as pd\n",
    "import numpy as np\n",
    "import scipy as sp\n",
    "from pathlib import Path\n",
    "from datetime import datetime\n",
    "import matplotlib.pyplot as plt\n",
    "import warnings\n",
    "import orjson\n",
    "import requests\n",
    "import time\n",
    "\n",
    "warnings.filterwarnings('ignore')\n",
    "%matplotlib inline"
   ]
  },
  {
   "cell_type": "code",
   "execution_count": 2,
   "metadata": {},
   "outputs": [],
   "source": [
    "derived_path = './../../data/Derived/suspicious_user'\n",
    "raw_path = './../../data/Raw'\n",
    "file_name = 'user_id_deleted.pkl.gz'"
   ]
  },
  {
   "cell_type": "code",
   "execution_count": 4,
   "metadata": {},
   "outputs": [],
   "source": [
    "df = pd.read_pickle('{}/{}'.format(derived_path, file_name))"
   ]
  },
  {
   "cell_type": "code",
   "execution_count": 5,
   "metadata": {},
   "outputs": [
    {
     "name": "stdout",
     "output_type": "stream",
     "text": [
      "<class 'pandas.core.frame.DataFrame'>\n",
      "RangeIndex: 1617534 entries, 0 to 1617533\n",
      "Data columns (total 1 columns):\n",
      " #   Column  Non-Null Count    Dtype \n",
      "---  ------  --------------    ----- \n",
      " 0   uid     1617534 non-null  object\n",
      "dtypes: object(1)\n",
      "memory usage: 12.3+ MB\n"
     ]
    }
   ],
   "source": [
    "df.info()"
   ]
  },
  {
   "cell_type": "code",
   "execution_count": 6,
   "metadata": {},
   "outputs": [],
   "source": [
    "df['uid'] = df['uid'].astype('str')"
   ]
  },
  {
   "cell_type": "code",
   "execution_count": 7,
   "metadata": {},
   "outputs": [],
   "source": [
    "df = df.sort_values(by=['uid'])"
   ]
  },
  {
   "cell_type": "code",
   "execution_count": 12,
   "metadata": {},
   "outputs": [],
   "source": [
    "user_ids = df['uid']\n",
    "length = len(df['uid'])\n",
    "url = 'xx'\n",
    "\n",
    "payload = {\n",
    "  \"email\": \"xx\",\n",
    "  \"qtype\": \"userid\",\n",
    "  \"q\": '',\n",
    "  \"start\": \"2021-05-24T00:00\",\n",
    "  \"end\": \"2021-05-27T00:00\",\n",
    "  \"output\": \"tweet-content\"\n",
    "}\n",
    "\n",
    "j= 1\n",
    "\n",
    "for i in range(0, length, 5000):\n",
    "    if i + 5000 > length:\n",
    "        last = length\n",
    "    else:\n",
    "        last = i + 5000\n",
    "        \n",
    "    j += 1\n",
    "    \n",
    "    ids = ','.join(user_ids[i: last])\n",
    "    payload['q'] = ids\n",
    "\n",
    "    try:\n",
    "        response = requests.post(url, json=payload, timeout=90)\n",
    "        \n",
    "        print(response)\n",
    "        \n",
    "        data = response.json()\n",
    "        \n",
    "        print(j)\n",
    "        \n",
    "    except Exception as e:\n",
    "        print(e)\n",
    "        print(j)"
   ]
  },
  {
   "cell_type": "code",
   "execution_count": null,
   "metadata": {},
   "outputs": [],
   "source": []
  }
 ],
 "metadata": {
  "kernelspec": {
   "display_name": "Python 3 (ipykernel)",
   "language": "python",
   "name": "python3"
  },
  "language_info": {
   "codemirror_mode": {
    "name": "ipython",
    "version": 3
   },
   "file_extension": ".py",
   "mimetype": "text/x-python",
   "name": "python",
   "nbconvert_exporter": "python",
   "pygments_lexer": "ipython3",
   "version": "3.12.2"
  }
 },
 "nbformat": 4,
 "nbformat_minor": 4
}
