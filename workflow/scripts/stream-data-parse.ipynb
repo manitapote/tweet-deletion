{
 "cells": [
  {
   "cell_type": "code",
   "execution_count": 44,
   "id": "16d398a3",
   "metadata": {},
   "outputs": [],
   "source": [
    "import pandas as pd\n",
    "import seaborn as sns\n",
    "import numpy as np\n",
    "import orjson as orjson\n",
    "\n",
    "import matplotlib.pyplot as plt\n",
    "import warnings\n",
    "import matplotlib"
   ]
  },
  {
   "cell_type": "code",
   "execution_count": 19,
   "id": "53a80313",
   "metadata": {},
   "outputs": [],
   "source": [
    "path = '/scratch/potem/'\n",
    "new_file = 'stream_day1_parsed.pkl.gz'\n",
    "save_path = '/scratch/potem/tweet-delete/'\n",
    "file_name = 'sample-day1.jsonl'"
   ]
  },
  {
   "cell_type": "code",
   "execution_count": 1,
   "id": "38cb41b0",
   "metadata": {},
   "outputs": [],
   "source": [
    "all_data = []\n",
    "with open(f'{path}{file_name}', 'r') as file:\n",
    "    data = file.readlines()"
   ]
  },
  {
   "cell_type": "code",
   "execution_count": 21,
   "id": "176b2a93",
   "metadata": {},
   "outputs": [],
   "source": [
    "for obj in data:\n",
    "        k = orjson.loads(obj)\n",
    "\n",
    "        if ('data' not in k) and ('created_at' not in k['data']):\n",
    "            continue\n",
    "        if ('includes' not in k) and ('users' not in k['includes']):\n",
    "            continue\n",
    "        \n",
    "        all_data.append([k['data']['created_at'], \n",
    "                     k['includes']['users'][0]['id'],\n",
    "                     k['includes']['users'][0]['public_metrics']['tweet_count']\n",
    "                    ])\n",
    "        \n",
    "df = pd.DataFrame(data=all_data, columns=['created_at', 'id', 'tweet_count'])\n",
    "df.to_pickle(f'{save_path}{new_file}')"
   ]
  },
  {
   "cell_type": "code",
   "execution_count": 23,
   "id": "cf183918",
   "metadata": {},
   "outputs": [],
   "source": [
    "df_read = pd.read_pickle(f'{save_path}{new_file}')"
   ]
  },
  {
   "cell_type": "code",
   "execution_count": 24,
   "id": "7efe5029",
   "metadata": {},
   "outputs": [
    {
     "name": "stdout",
     "output_type": "stream",
     "text": [
      "<class 'pandas.core.frame.DataFrame'>\n",
      "RangeIndex: 3754644 entries, 0 to 3754643\n",
      "Data columns (total 3 columns):\n",
      " #   Column       Dtype \n",
      "---  ------       ----- \n",
      " 0   created_at   object\n",
      " 1   id           object\n",
      " 2   tweet_count  int64 \n",
      "dtypes: int64(1), object(2)\n",
      "memory usage: 85.9+ MB\n"
     ]
    }
   ],
   "source": [
    "df_read.info()"
   ]
  },
  {
   "cell_type": "code",
   "execution_count": 25,
   "id": "e2eee650",
   "metadata": {},
   "outputs": [],
   "source": [
    "df_read['count'] = df_read.groupby(\n",
    "        ['id']\n",
    "    )['id'].transform('count')"
   ]
  },
  {
   "cell_type": "code",
   "execution_count": 27,
   "id": "fd7f4ac7",
   "metadata": {},
   "outputs": [],
   "source": [
    "df_new = df_read.loc[df_read['count'] != 1].copy()"
   ]
  },
  {
   "cell_type": "code",
   "execution_count": 28,
   "id": "b6e9b4f7",
   "metadata": {},
   "outputs": [
    {
     "name": "stdout",
     "output_type": "stream",
     "text": [
      "<class 'pandas.core.frame.DataFrame'>\n",
      "Int64Index: 1555858 entries, 0 to 3754642\n",
      "Data columns (total 4 columns):\n",
      " #   Column       Non-Null Count    Dtype \n",
      "---  ------       --------------    ----- \n",
      " 0   created_at   1555858 non-null  object\n",
      " 1   id           1555858 non-null  object\n",
      " 2   tweet_count  1555858 non-null  int64 \n",
      " 3   count        1555858 non-null  int64 \n",
      "dtypes: int64(2), object(2)\n",
      "memory usage: 59.4+ MB\n"
     ]
    }
   ],
   "source": [
    "df_new.info()"
   ]
  },
  {
   "cell_type": "code",
   "execution_count": 29,
   "id": "df4bf769",
   "metadata": {},
   "outputs": [],
   "source": [
    "df_new = df_new.drop(['count'], axis=1)"
   ]
  },
  {
   "cell_type": "code",
   "execution_count": 31,
   "id": "bbf45863",
   "metadata": {},
   "outputs": [
    {
     "data": {
      "text/html": [
       "<div>\n",
       "<style scoped>\n",
       "    .dataframe tbody tr th:only-of-type {\n",
       "        vertical-align: middle;\n",
       "    }\n",
       "\n",
       "    .dataframe tbody tr th {\n",
       "        vertical-align: top;\n",
       "    }\n",
       "\n",
       "    .dataframe thead th {\n",
       "        text-align: right;\n",
       "    }\n",
       "</style>\n",
       "<table border=\"1\" class=\"dataframe\">\n",
       "  <thead>\n",
       "    <tr style=\"text-align: right;\">\n",
       "      <th></th>\n",
       "      <th>created_at</th>\n",
       "      <th>id</th>\n",
       "      <th>tweet_count</th>\n",
       "    </tr>\n",
       "  </thead>\n",
       "  <tbody>\n",
       "    <tr>\n",
       "      <th>0</th>\n",
       "      <td>2021-12-18T01:45:08.000Z</td>\n",
       "      <td>1226393005206061059</td>\n",
       "      <td>40006</td>\n",
       "    </tr>\n",
       "    <tr>\n",
       "      <th>1</th>\n",
       "      <td>2021-12-18T01:45:08.000Z</td>\n",
       "      <td>1226393005206061059</td>\n",
       "      <td>40006</td>\n",
       "    </tr>\n",
       "    <tr>\n",
       "      <th>2</th>\n",
       "      <td>2021-12-18T01:45:08.000Z</td>\n",
       "      <td>1172038122646822912</td>\n",
       "      <td>102168</td>\n",
       "    </tr>\n",
       "    <tr>\n",
       "      <th>3</th>\n",
       "      <td>2021-12-18T01:45:08.000Z</td>\n",
       "      <td>941022373</td>\n",
       "      <td>65166</td>\n",
       "    </tr>\n",
       "    <tr>\n",
       "      <th>4</th>\n",
       "      <td>2021-12-18T01:45:08.000Z</td>\n",
       "      <td>731313173542764544</td>\n",
       "      <td>74067</td>\n",
       "    </tr>\n",
       "  </tbody>\n",
       "</table>\n",
       "</div>"
      ],
      "text/plain": [
       "                 created_at                   id  tweet_count\n",
       "0  2021-12-18T01:45:08.000Z  1226393005206061059        40006\n",
       "1  2021-12-18T01:45:08.000Z  1226393005206061059        40006\n",
       "2  2021-12-18T01:45:08.000Z  1172038122646822912       102168\n",
       "3  2021-12-18T01:45:08.000Z            941022373        65166\n",
       "4  2021-12-18T01:45:08.000Z   731313173542764544        74067"
      ]
     },
     "execution_count": 31,
     "metadata": {},
     "output_type": "execute_result"
    }
   ],
   "source": [
    "df_new.head()"
   ]
  },
  {
   "cell_type": "code",
   "execution_count": 32,
   "id": "7bb0feba",
   "metadata": {},
   "outputs": [],
   "source": [
    "df_new = df_new.sort_values(by=['created_at'], ascending=True)"
   ]
  },
  {
   "cell_type": "code",
   "execution_count": 33,
   "id": "7031cef3",
   "metadata": {},
   "outputs": [],
   "source": [
    "df_new['tweet_shift'] = df_new.groupby(['id'])['tweet_count'].shift(\n",
    "    periods=1)"
   ]
  },
  {
   "cell_type": "code",
   "execution_count": 34,
   "id": "b718c57b",
   "metadata": {},
   "outputs": [
    {
     "data": {
      "text/html": [
       "<div>\n",
       "<style scoped>\n",
       "    .dataframe tbody tr th:only-of-type {\n",
       "        vertical-align: middle;\n",
       "    }\n",
       "\n",
       "    .dataframe tbody tr th {\n",
       "        vertical-align: top;\n",
       "    }\n",
       "\n",
       "    .dataframe thead th {\n",
       "        text-align: right;\n",
       "    }\n",
       "</style>\n",
       "<table border=\"1\" class=\"dataframe\">\n",
       "  <thead>\n",
       "    <tr style=\"text-align: right;\">\n",
       "      <th></th>\n",
       "      <th>created_at</th>\n",
       "      <th>id</th>\n",
       "      <th>tweet_count</th>\n",
       "      <th>tweet_shift</th>\n",
       "    </tr>\n",
       "  </thead>\n",
       "  <tbody>\n",
       "    <tr>\n",
       "      <th>3464056</th>\n",
       "      <td>2021-12-17T16:06:28.000Z</td>\n",
       "      <td>1330503754957938694</td>\n",
       "      <td>8021</td>\n",
       "      <td>NaN</td>\n",
       "    </tr>\n",
       "    <tr>\n",
       "      <th>3115447</th>\n",
       "      <td>2021-12-17T16:06:32.000Z</td>\n",
       "      <td>824070656224436224</td>\n",
       "      <td>209320</td>\n",
       "      <td>NaN</td>\n",
       "    </tr>\n",
       "    <tr>\n",
       "      <th>3464064</th>\n",
       "      <td>2021-12-17T16:06:43.000Z</td>\n",
       "      <td>1038541302936129536</td>\n",
       "      <td>9453</td>\n",
       "      <td>NaN</td>\n",
       "    </tr>\n",
       "    <tr>\n",
       "      <th>3463998</th>\n",
       "      <td>2021-12-17T16:06:44.000Z</td>\n",
       "      <td>1312444122783838208</td>\n",
       "      <td>12672</td>\n",
       "      <td>NaN</td>\n",
       "    </tr>\n",
       "    <tr>\n",
       "      <th>3299</th>\n",
       "      <td>2021-12-18T01:45:08.000Z</td>\n",
       "      <td>1059632084204093440</td>\n",
       "      <td>42938</td>\n",
       "      <td>NaN</td>\n",
       "    </tr>\n",
       "  </tbody>\n",
       "</table>\n",
       "</div>"
      ],
      "text/plain": [
       "                       created_at                   id  tweet_count  \\\n",
       "3464056  2021-12-17T16:06:28.000Z  1330503754957938694         8021   \n",
       "3115447  2021-12-17T16:06:32.000Z   824070656224436224       209320   \n",
       "3464064  2021-12-17T16:06:43.000Z  1038541302936129536         9453   \n",
       "3463998  2021-12-17T16:06:44.000Z  1312444122783838208        12672   \n",
       "3299     2021-12-18T01:45:08.000Z  1059632084204093440        42938   \n",
       "\n",
       "         tweet_shift  \n",
       "3464056          NaN  \n",
       "3115447          NaN  \n",
       "3464064          NaN  \n",
       "3463998          NaN  \n",
       "3299             NaN  "
      ]
     },
     "execution_count": 34,
     "metadata": {},
     "output_type": "execute_result"
    }
   ],
   "source": [
    "df_new.head()"
   ]
  },
  {
   "cell_type": "code",
   "execution_count": 35,
   "id": "65f2d1f1",
   "metadata": {},
   "outputs": [],
   "source": [
    "df_new = df_new.loc[~df_new['tweet_shift'].isnull()]\n",
    "# df_test = df_active\n",
    "df_new['estimated_deletion'] = (df_new['tweet_count'] - df_new['tweet_shift'])\n",
    "# df_active['estimated_deletion'] = (df_active['tweet_count'] - df_active['tweet_shift']) / df_active['delay']\n"
   ]
  },
  {
   "cell_type": "code",
   "execution_count": 37,
   "id": "f93cc840",
   "metadata": {},
   "outputs": [
    {
     "data": {
      "text/html": [
       "<div>\n",
       "<style scoped>\n",
       "    .dataframe tbody tr th:only-of-type {\n",
       "        vertical-align: middle;\n",
       "    }\n",
       "\n",
       "    .dataframe tbody tr th {\n",
       "        vertical-align: top;\n",
       "    }\n",
       "\n",
       "    .dataframe thead th {\n",
       "        text-align: right;\n",
       "    }\n",
       "</style>\n",
       "<table border=\"1\" class=\"dataframe\">\n",
       "  <thead>\n",
       "    <tr style=\"text-align: right;\">\n",
       "      <th></th>\n",
       "      <th>created_at</th>\n",
       "      <th>id</th>\n",
       "      <th>tweet_count</th>\n",
       "      <th>tweet_shift</th>\n",
       "      <th>estimated_deletion</th>\n",
       "    </tr>\n",
       "  </thead>\n",
       "  <tbody>\n",
       "    <tr>\n",
       "      <th>1877</th>\n",
       "      <td>2021-12-18T01:46:02.000Z</td>\n",
       "      <td>38198962</td>\n",
       "      <td>2083</td>\n",
       "      <td>2089.0</td>\n",
       "      <td>-6.0</td>\n",
       "    </tr>\n",
       "    <tr>\n",
       "      <th>15302</th>\n",
       "      <td>2021-12-18T01:50:41.000Z</td>\n",
       "      <td>1386830117121429505</td>\n",
       "      <td>4371</td>\n",
       "      <td>4372.0</td>\n",
       "      <td>-1.0</td>\n",
       "    </tr>\n",
       "    <tr>\n",
       "      <th>17195</th>\n",
       "      <td>2021-12-18T01:51:33.000Z</td>\n",
       "      <td>1355248356868685825</td>\n",
       "      <td>873</td>\n",
       "      <td>874.0</td>\n",
       "      <td>-1.0</td>\n",
       "    </tr>\n",
       "    <tr>\n",
       "      <th>21260</th>\n",
       "      <td>2021-12-18T01:53:24.000Z</td>\n",
       "      <td>1145953772952150016</td>\n",
       "      <td>77763335</td>\n",
       "      <td>77763337.0</td>\n",
       "      <td>-2.0</td>\n",
       "    </tr>\n",
       "    <tr>\n",
       "      <th>29497</th>\n",
       "      <td>2021-12-18T01:57:11.000Z</td>\n",
       "      <td>895611574315909120</td>\n",
       "      <td>94101</td>\n",
       "      <td>94102.0</td>\n",
       "      <td>-1.0</td>\n",
       "    </tr>\n",
       "    <tr>\n",
       "      <th>...</th>\n",
       "      <td>...</td>\n",
       "      <td>...</td>\n",
       "      <td>...</td>\n",
       "      <td>...</td>\n",
       "      <td>...</td>\n",
       "    </tr>\n",
       "    <tr>\n",
       "      <th>3752507</th>\n",
       "      <td>2021-12-19T02:12:16.000Z</td>\n",
       "      <td>1386443219446026242</td>\n",
       "      <td>317925</td>\n",
       "      <td>317993.0</td>\n",
       "      <td>-68.0</td>\n",
       "    </tr>\n",
       "    <tr>\n",
       "      <th>3752810</th>\n",
       "      <td>2021-12-19T02:12:24.000Z</td>\n",
       "      <td>1284969566553219072</td>\n",
       "      <td>248</td>\n",
       "      <td>249.0</td>\n",
       "      <td>-1.0</td>\n",
       "    </tr>\n",
       "    <tr>\n",
       "      <th>3753095</th>\n",
       "      <td>2021-12-19T02:12:32.000Z</td>\n",
       "      <td>1005531267012726784</td>\n",
       "      <td>44303</td>\n",
       "      <td>44308.0</td>\n",
       "      <td>-5.0</td>\n",
       "    </tr>\n",
       "    <tr>\n",
       "      <th>3753830</th>\n",
       "      <td>2021-12-19T02:12:50.000Z</td>\n",
       "      <td>2979096319</td>\n",
       "      <td>4</td>\n",
       "      <td>29.0</td>\n",
       "      <td>-25.0</td>\n",
       "    </tr>\n",
       "    <tr>\n",
       "      <th>3754546</th>\n",
       "      <td>2021-12-19T02:13:09.000Z</td>\n",
       "      <td>1386265067830841344</td>\n",
       "      <td>364</td>\n",
       "      <td>365.0</td>\n",
       "      <td>-1.0</td>\n",
       "    </tr>\n",
       "  </tbody>\n",
       "</table>\n",
       "<p>7091 rows × 5 columns</p>\n",
       "</div>"
      ],
      "text/plain": [
       "                       created_at                   id  tweet_count  \\\n",
       "1877     2021-12-18T01:46:02.000Z             38198962         2083   \n",
       "15302    2021-12-18T01:50:41.000Z  1386830117121429505         4371   \n",
       "17195    2021-12-18T01:51:33.000Z  1355248356868685825          873   \n",
       "21260    2021-12-18T01:53:24.000Z  1145953772952150016     77763335   \n",
       "29497    2021-12-18T01:57:11.000Z   895611574315909120        94101   \n",
       "...                           ...                  ...          ...   \n",
       "3752507  2021-12-19T02:12:16.000Z  1386443219446026242       317925   \n",
       "3752810  2021-12-19T02:12:24.000Z  1284969566553219072          248   \n",
       "3753095  2021-12-19T02:12:32.000Z  1005531267012726784        44303   \n",
       "3753830  2021-12-19T02:12:50.000Z           2979096319            4   \n",
       "3754546  2021-12-19T02:13:09.000Z  1386265067830841344          364   \n",
       "\n",
       "         tweet_shift  estimated_deletion  \n",
       "1877          2089.0                -6.0  \n",
       "15302         4372.0                -1.0  \n",
       "17195          874.0                -1.0  \n",
       "21260     77763337.0                -2.0  \n",
       "29497        94102.0                -1.0  \n",
       "...              ...                 ...  \n",
       "3752507     317993.0               -68.0  \n",
       "3752810        249.0                -1.0  \n",
       "3753095      44308.0                -5.0  \n",
       "3753830         29.0               -25.0  \n",
       "3754546        365.0                -1.0  \n",
       "\n",
       "[7091 rows x 5 columns]"
      ]
     },
     "execution_count": 37,
     "metadata": {},
     "output_type": "execute_result"
    }
   ],
   "source": [
    "df_new.loc[df_new['estimated_deletion'] < 0]"
   ]
  },
  {
   "cell_type": "code",
   "execution_count": 38,
   "id": "8ad78298",
   "metadata": {},
   "outputs": [],
   "source": [
    "df_neagtive = df_new.loc[df_new['estimated_deletion'] < 0].copy()"
   ]
  },
  {
   "cell_type": "code",
   "execution_count": 57,
   "id": "27a4d116",
   "metadata": {},
   "outputs": [],
   "source": [
    "df_neagtive = df_neagtive.loc[df_neagtive['estimated_deletion'] <= -10]"
   ]
  },
  {
   "cell_type": "code",
   "execution_count": 58,
   "id": "ecb2c48d",
   "metadata": {},
   "outputs": [
    {
     "data": {
      "image/png": "[encoded data removed]",
      "text/plain": [
       "<Figure size 648x576 with 1 Axes>"
      ]
     },
     "metadata": {
      "needs_background": "light"
     },
     "output_type": "display_data"
    }
   ],
   "source": [
    "x = df_neagtive['estimated_deletion'] * (-1)\n",
    "legend_1 = 'estimated'\n",
    "filename = 'stream'\n",
    "fontsize = 26\n",
    "    \n",
    "fig, ax = plt.subplots(figsize=(9, 8))\n",
    "\n",
    "sns.ecdfplot(x, \n",
    "             complementary=True,\n",
    "             label=legend_1,\n",
    "             color='blue',\n",
    "             ax=ax,\n",
    "            linewidth=2,)\n",
    "ax.set_xscale('log')\n",
    "plt.show()"
   ]
  }
 ],
 "metadata": {
  "kernelspec": {
   "display_name": "Python 3 (ipykernel)",
   "language": "python",
   "name": "python3"
  },
  "language_info": {
   "codemirror_mode": {
    "name": "ipython",
    "version": 3
   },
   "file_extension": ".py",
   "mimetype": "text/x-python",
   "name": "python",
   "nbconvert_exporter": "python",
   "pygments_lexer": "ipython3",
   "version": "3.12.2"
  }
 },
 "nbformat": 4,
 "nbformat_minor": 5
}
